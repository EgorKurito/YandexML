{
 "cells": [
  {
   "cell_type": "code",
   "execution_count": 56,
   "metadata": {},
   "outputs": [
    {
     "name": "stdout",
     "output_type": "stream",
     "text": [
      "Populating the interactive namespace from numpy and matplotlib\n"
     ]
    }
   ],
   "source": [
    "from sklearn import cross_validation, grid_search, linear_model, metrics\n",
    "\n",
    "import numpy as np\n",
    "import pandas as pd\n",
    "%pylab inline"
   ]
  },
  {
   "cell_type": "code",
   "execution_count": 233,
   "metadata": {},
   "outputs": [],
   "source": [
    "data = pd.read_csv('train.tsv',delimiter='\\t',header=None)"
   ]
  },
  {
   "cell_type": "code",
   "execution_count": 234,
   "metadata": {},
   "outputs": [
    {
     "data": {
      "text/html": [
       "<div>\n",
       "<style scoped>\n",
       "    .dataframe tbody tr th:only-of-type {\n",
       "        vertical-align: middle;\n",
       "    }\n",
       "\n",
       "    .dataframe tbody tr th {\n",
       "        vertical-align: top;\n",
       "    }\n",
       "\n",
       "    .dataframe thead th {\n",
       "        text-align: right;\n",
       "    }\n",
       "</style>\n",
       "<table border=\"1\" class=\"dataframe\">\n",
       "  <thead>\n",
       "    <tr style=\"text-align: right;\">\n",
       "      <th></th>\n",
       "      <th>0</th>\n",
       "      <th>1</th>\n",
       "      <th>2</th>\n",
       "      <th>3</th>\n",
       "      <th>4</th>\n",
       "      <th>5</th>\n",
       "      <th>6</th>\n",
       "      <th>7</th>\n",
       "      <th>8</th>\n",
       "      <th>9</th>\n",
       "      <th>...</th>\n",
       "      <th>91</th>\n",
       "      <th>92</th>\n",
       "      <th>93</th>\n",
       "      <th>94</th>\n",
       "      <th>95</th>\n",
       "      <th>96</th>\n",
       "      <th>97</th>\n",
       "      <th>98</th>\n",
       "      <th>99</th>\n",
       "      <th>100</th>\n",
       "    </tr>\n",
       "  </thead>\n",
       "  <tbody>\n",
       "    <tr>\n",
       "      <th>0</th>\n",
       "      <td>5.081360e-03</td>\n",
       "      <td>2.732210e-03</td>\n",
       "      <td>3.976420e-03</td>\n",
       "      <td>0.004540</td>\n",
       "      <td>4.731020e-03</td>\n",
       "      <td>0.005066</td>\n",
       "      <td>0.002552</td>\n",
       "      <td>0.003555</td>\n",
       "      <td>0.003674</td>\n",
       "      <td>4.089900e-03</td>\n",
       "      <td>...</td>\n",
       "      <td>0.005197</td>\n",
       "      <td>1.644370e-03</td>\n",
       "      <td>0.005083</td>\n",
       "      <td>0.004174</td>\n",
       "      <td>0.003957</td>\n",
       "      <td>0.002386</td>\n",
       "      <td>0.004375</td>\n",
       "      <td>8.412300e-04</td>\n",
       "      <td>0.000653</td>\n",
       "      <td>0.284860</td>\n",
       "    </tr>\n",
       "    <tr>\n",
       "      <th>1</th>\n",
       "      <td>4.174910e-03</td>\n",
       "      <td>7.084480e-03</td>\n",
       "      <td>2.123510e-03</td>\n",
       "      <td>0.000003</td>\n",
       "      <td>3.681860e-03</td>\n",
       "      <td>0.004573</td>\n",
       "      <td>0.003550</td>\n",
       "      <td>0.008086</td>\n",
       "      <td>0.006227</td>\n",
       "      <td>3.793680e-03</td>\n",
       "      <td>...</td>\n",
       "      <td>0.000264</td>\n",
       "      <td>5.655750e-03</td>\n",
       "      <td>0.006144</td>\n",
       "      <td>0.000177</td>\n",
       "      <td>0.004394</td>\n",
       "      <td>0.001403</td>\n",
       "      <td>0.002766</td>\n",
       "      <td>3.999750e-03</td>\n",
       "      <td>0.008292</td>\n",
       "      <td>0.401233</td>\n",
       "    </tr>\n",
       "    <tr>\n",
       "      <th>2</th>\n",
       "      <td>1.175410e-03</td>\n",
       "      <td>1.298870e-03</td>\n",
       "      <td>2.000290e-03</td>\n",
       "      <td>0.004009</td>\n",
       "      <td>3.330520e-03</td>\n",
       "      <td>0.004482</td>\n",
       "      <td>0.000404</td>\n",
       "      <td>0.000320</td>\n",
       "      <td>0.000136</td>\n",
       "      <td>3.351720e-03</td>\n",
       "      <td>...</td>\n",
       "      <td>0.003521</td>\n",
       "      <td>3.148270e-03</td>\n",
       "      <td>0.002726</td>\n",
       "      <td>0.003363</td>\n",
       "      <td>0.003507</td>\n",
       "      <td>0.001631</td>\n",
       "      <td>0.003283</td>\n",
       "      <td>2.215900e-04</td>\n",
       "      <td>0.004203</td>\n",
       "      <td>0.239423</td>\n",
       "    </tr>\n",
       "    <tr>\n",
       "      <th>3</th>\n",
       "      <td>5.845890e-03</td>\n",
       "      <td>5.368910e-03</td>\n",
       "      <td>6.507510e-03</td>\n",
       "      <td>0.006121</td>\n",
       "      <td>8.502420e-03</td>\n",
       "      <td>0.008948</td>\n",
       "      <td>0.002689</td>\n",
       "      <td>0.001819</td>\n",
       "      <td>0.000579</td>\n",
       "      <td>1.125160e-03</td>\n",
       "      <td>...</td>\n",
       "      <td>0.006734</td>\n",
       "      <td>5.367000e-05</td>\n",
       "      <td>0.008358</td>\n",
       "      <td>0.003522</td>\n",
       "      <td>0.001091</td>\n",
       "      <td>0.007370</td>\n",
       "      <td>0.002647</td>\n",
       "      <td>6.058580e-03</td>\n",
       "      <td>0.000045</td>\n",
       "      <td>0.491486</td>\n",
       "    </tr>\n",
       "    <tr>\n",
       "      <th>4</th>\n",
       "      <td>5.600000e-07</td>\n",
       "      <td>3.700000e-07</td>\n",
       "      <td>6.200000e-07</td>\n",
       "      <td>0.000002</td>\n",
       "      <td>9.700000e-07</td>\n",
       "      <td>0.000002</td>\n",
       "      <td>0.000002</td>\n",
       "      <td>0.000002</td>\n",
       "      <td>0.000002</td>\n",
       "      <td>6.800000e-07</td>\n",
       "      <td>...</td>\n",
       "      <td>0.000002</td>\n",
       "      <td>9.800000e-07</td>\n",
       "      <td>0.000002</td>\n",
       "      <td>0.000002</td>\n",
       "      <td>0.000001</td>\n",
       "      <td>0.000001</td>\n",
       "      <td>0.000001</td>\n",
       "      <td>8.000000e-07</td>\n",
       "      <td>0.000001</td>\n",
       "      <td>0.000112</td>\n",
       "    </tr>\n",
       "  </tbody>\n",
       "</table>\n",
       "<p>5 rows × 101 columns</p>\n",
       "</div>"
      ],
      "text/plain": [
       "            0             1             2         3             4         5    \\\n",
       "0  5.081360e-03  2.732210e-03  3.976420e-03  0.004540  4.731020e-03  0.005066   \n",
       "1  4.174910e-03  7.084480e-03  2.123510e-03  0.000003  3.681860e-03  0.004573   \n",
       "2  1.175410e-03  1.298870e-03  2.000290e-03  0.004009  3.330520e-03  0.004482   \n",
       "3  5.845890e-03  5.368910e-03  6.507510e-03  0.006121  8.502420e-03  0.008948   \n",
       "4  5.600000e-07  3.700000e-07  6.200000e-07  0.000002  9.700000e-07  0.000002   \n",
       "\n",
       "        6         7         8             9      ...          91   \\\n",
       "0  0.002552  0.003555  0.003674  4.089900e-03    ...     0.005197   \n",
       "1  0.003550  0.008086  0.006227  3.793680e-03    ...     0.000264   \n",
       "2  0.000404  0.000320  0.000136  3.351720e-03    ...     0.003521   \n",
       "3  0.002689  0.001819  0.000579  1.125160e-03    ...     0.006734   \n",
       "4  0.000002  0.000002  0.000002  6.800000e-07    ...     0.000002   \n",
       "\n",
       "            92        93        94        95        96        97   \\\n",
       "0  1.644370e-03  0.005083  0.004174  0.003957  0.002386  0.004375   \n",
       "1  5.655750e-03  0.006144  0.000177  0.004394  0.001403  0.002766   \n",
       "2  3.148270e-03  0.002726  0.003363  0.003507  0.001631  0.003283   \n",
       "3  5.367000e-05  0.008358  0.003522  0.001091  0.007370  0.002647   \n",
       "4  9.800000e-07  0.000002  0.000002  0.000001  0.000001  0.000001   \n",
       "\n",
       "            98        99        100  \n",
       "0  8.412300e-04  0.000653  0.284860  \n",
       "1  3.999750e-03  0.008292  0.401233  \n",
       "2  2.215900e-04  0.004203  0.239423  \n",
       "3  6.058580e-03  0.000045  0.491486  \n",
       "4  8.000000e-07  0.000001  0.000112  \n",
       "\n",
       "[5 rows x 101 columns]"
      ]
     },
     "execution_count": 234,
     "metadata": {},
     "output_type": "execute_result"
    }
   ],
   "source": [
    "data.head()"
   ]
  },
  {
   "cell_type": "code",
   "execution_count": 235,
   "metadata": {},
   "outputs": [
    {
     "name": "stdout",
     "output_type": "stream",
     "text": [
      "(10000, 101)\n"
     ]
    }
   ],
   "source": [
    "print(data.shape)"
   ]
  },
  {
   "cell_type": "code",
   "execution_count": 236,
   "metadata": {},
   "outputs": [
    {
     "data": {
      "text/plain": [
       "False"
      ]
     },
     "execution_count": 236,
     "metadata": {},
     "output_type": "execute_result"
    }
   ],
   "source": [
    "data.isnull().values.any()"
   ]
  },
  {
   "cell_type": "code",
   "execution_count": 237,
   "metadata": {},
   "outputs": [
    {
     "name": "stdout",
     "output_type": "stream",
     "text": [
      "<class 'pandas.core.frame.DataFrame'>\n",
      "RangeIndex: 10000 entries, 0 to 9999\n",
      "Columns: 101 entries, 0 to 100\n",
      "dtypes: float64(101)\n",
      "memory usage: 7.7 MB\n"
     ]
    }
   ],
   "source": [
    "data.info()"
   ]
  },
  {
   "cell_type": "code",
   "execution_count": 238,
   "metadata": {},
   "outputs": [],
   "source": [
    "d_data = data.drop(100, 1)\n",
    "target = data[100]"
   ]
  },
  {
   "cell_type": "code",
   "execution_count": 239,
   "metadata": {},
   "outputs": [],
   "source": [
    "train_data, test_data, train_labels, test_labels = cross_validation.train_test_split(d_data,target, test_size = 0.3)"
   ]
  },
  {
   "cell_type": "code",
   "execution_count": 258,
   "metadata": {},
   "outputs": [],
   "source": [
    "# regressor = linear_model.RidgeCV(alphas=[0.1, 0.2, 1.0], cv=3)"
   ]
  },
  {
   "cell_type": "code",
   "execution_count": 279,
   "metadata": {},
   "outputs": [],
   "source": [
    "regressor = linear_model.BayesianRidge()"
   ]
  },
  {
   "cell_type": "code",
   "execution_count": 280,
   "metadata": {},
   "outputs": [
    {
     "data": {
      "text/plain": [
       "1.2709152094187865e-11"
      ]
     },
     "execution_count": 280,
     "metadata": {},
     "output_type": "execute_result"
    }
   ],
   "source": [
    "regressor.fit(train_data, train_labels)\n",
    "metrics.mean_absolute_error(test_labels, regressor.predict(test_data))"
   ]
  },
  {
   "cell_type": "code",
   "execution_count": 281,
   "metadata": {},
   "outputs": [
    {
     "data": {
      "text/plain": [
       "3447930341.9145265"
      ]
     },
     "execution_count": 281,
     "metadata": {},
     "output_type": "execute_result"
    }
   ],
   "source": [
    "regressor.alpha_"
   ]
  },
  {
   "cell_type": "code",
   "execution_count": 282,
   "metadata": {},
   "outputs": [
    {
     "name": "stdout",
     "output_type": "stream",
     "text": [
      "316     0.148749\n",
      "5944    0.221493\n",
      "2633    0.171862\n",
      "6471    0.250034\n",
      "948     0.917256\n",
      "2658    0.383673\n",
      "5315    0.209769\n",
      "7386    0.918749\n",
      "6445    0.746535\n",
      "5127    0.683569\n",
      "Name: 100, dtype: float64\n"
     ]
    }
   ],
   "source": [
    "print(test_labels[:10])"
   ]
  },
  {
   "cell_type": "code",
   "execution_count": 283,
   "metadata": {},
   "outputs": [
    {
     "name": "stdout",
     "output_type": "stream",
     "text": [
      "[0.14874871 0.22149321 0.17186181 0.25003393 0.91725585 0.3836729\n",
      " 0.20976883 0.91874902 0.7465351  0.68356912]\n"
     ]
    }
   ],
   "source": [
    "print(regressor.predict(test_data)[:10])"
   ]
  },
  {
   "cell_type": "code",
   "execution_count": 285,
   "metadata": {},
   "outputs": [
    {
     "data": {
      "text/plain": [
       "1.2709152094187865e-11"
      ]
     },
     "execution_count": 285,
     "metadata": {},
     "output_type": "execute_result"
    }
   ],
   "source": [
    "metrics.mean_absolute_error(test_labels, regressor.predict(test_data))"
   ]
  },
  {
   "cell_type": "code",
   "execution_count": 286,
   "metadata": {},
   "outputs": [
    {
     "data": {
      "text/plain": [
       "0.4954712214899996"
      ]
     },
     "execution_count": 286,
     "metadata": {},
     "output_type": "execute_result"
    }
   ],
   "source": [
    "np.mean(test_labels)"
   ]
  },
  {
   "cell_type": "code",
   "execution_count": 287,
   "metadata": {},
   "outputs": [],
   "source": [
    "d_data = pd.read_csv('test.tsv',delimiter='\\t',header=None)"
   ]
  },
  {
   "cell_type": "code",
   "execution_count": 288,
   "metadata": {},
   "outputs": [
    {
     "data": {
      "text/plain": [
       "(1000, 100)"
      ]
     },
     "execution_count": 288,
     "metadata": {},
     "output_type": "execute_result"
    }
   ],
   "source": [
    "d_data.shape"
   ]
  },
  {
   "cell_type": "code",
   "execution_count": 289,
   "metadata": {},
   "outputs": [],
   "source": [
    "asnwer = regressor.predict(d_data)"
   ]
  },
  {
   "cell_type": "code",
   "execution_count": 290,
   "metadata": {},
   "outputs": [],
   "source": [
    "new_data = pd.DataFrame(asnwer)"
   ]
  },
  {
   "cell_type": "code",
   "execution_count": 291,
   "metadata": {},
   "outputs": [],
   "source": [
    "new_test_data = round(new_data, 8)"
   ]
  },
  {
   "cell_type": "code",
   "execution_count": 292,
   "metadata": {},
   "outputs": [],
   "source": [
    "new_test_data.to_csv('answer.tsv',index=None,header=None)"
   ]
  },
  {
   "cell_type": "code",
   "execution_count": null,
   "metadata": {},
   "outputs": [],
   "source": []
  }
 ],
 "metadata": {
  "kernelspec": {
   "display_name": "Python 3",
   "language": "python",
   "name": "python3"
  },
  "language_info": {
   "codemirror_mode": {
    "name": "ipython",
    "version": 3
   },
   "file_extension": ".py",
   "mimetype": "text/x-python",
   "name": "python",
   "nbconvert_exporter": "python",
   "pygments_lexer": "ipython3",
   "version": "3.7.0"
  }
 },
 "nbformat": 4,
 "nbformat_minor": 2
}
